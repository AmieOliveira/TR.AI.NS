{
 "cells": [
  {
   "cell_type": "code",
   "execution_count": null,
   "metadata": {},
   "outputs": [],
   "source": [
    "pip install networkx"
   ]
  },
  {
   "cell_type": "code",
   "execution_count": 1,
   "metadata": {},
   "outputs": [],
   "source": [
    "import networkx as nx\n",
    "import matplotlib.pyplot as plt\n",
    "import pandas as pd \n",
    "import itertools"
   ]
  },
  {
   "cell_type": "code",
   "execution_count": 2,
   "metadata": {},
   "outputs": [
    {
     "name": "stdout",
     "output_type": "stream",
     "text": [
      "Client.py\t Network.py   Simulation.py\t\t  Train.py\r\n",
      "man-user.png\t Protocol.py  Test for networkXLib.ipynb\r\n",
      "mapFile\t\t __pycache__  Tests\r\n",
      "mapFile.numbers  README.md    train.png\r\n"
     ]
    }
   ],
   "source": [
    "!ls"
   ]
  },
  {
   "cell_type": "code",
   "execution_count": 3,
   "metadata": {},
   "outputs": [],
   "source": [
    "edgelist = pd.read_csv('mapFile/edgeList.csv')\n",
    "nodelist = pd.read_csv('mapFile/Sheet 1-Vertices Positions.csv')"
   ]
  },
  {
   "cell_type": "code",
   "execution_count": 4,
   "metadata": {},
   "outputs": [
    {
     "name": "stdout",
     "output_type": "stream",
     "text": [
      "      Node1    Node2  distance\n",
      "0        _1  Point_1        10\n",
      "1        _1       _3        10\n",
      "2   Point_1       _2        10\n",
      "3        _2       _3        10\n",
      "4        _2       _4        10\n",
      "5        _4  Point_2        10\n",
      "6        _4       _7        10\n",
      "7        _4       _5        10\n",
      "8        _5       _3        10\n",
      "9        _5       _6         5\n",
      "10       _5       _8        10\n",
      "11       _8       _7        10\n",
      "12       _8  Point_3         5\n",
      "13  Point_3       _6        10\n"
     ]
    }
   ],
   "source": [
    "print(edgelist)"
   ]
  },
  {
   "cell_type": "code",
   "execution_count": 5,
   "metadata": {},
   "outputs": [
    {
     "data": {
      "text/html": [
       "<div>\n",
       "<style scoped>\n",
       "    .dataframe tbody tr th:only-of-type {\n",
       "        vertical-align: middle;\n",
       "    }\n",
       "\n",
       "    .dataframe tbody tr th {\n",
       "        vertical-align: top;\n",
       "    }\n",
       "\n",
       "    .dataframe thead th {\n",
       "        text-align: right;\n",
       "    }\n",
       "</style>\n",
       "<table border=\"1\" class=\"dataframe\">\n",
       "  <thead>\n",
       "    <tr style=\"text-align: right;\">\n",
       "      <th></th>\n",
       "      <th>Name</th>\n",
       "      <th>X</th>\n",
       "      <th>Y</th>\n",
       "    </tr>\n",
       "  </thead>\n",
       "  <tbody>\n",
       "    <tr>\n",
       "      <th>0</th>\n",
       "      <td>Point_1</td>\n",
       "      <td>0</td>\n",
       "      <td>15</td>\n",
       "    </tr>\n",
       "    <tr>\n",
       "      <th>1</th>\n",
       "      <td>_1</td>\n",
       "      <td>0</td>\n",
       "      <td>5</td>\n",
       "    </tr>\n",
       "    <tr>\n",
       "      <th>2</th>\n",
       "      <td>_2</td>\n",
       "      <td>10</td>\n",
       "      <td>15</td>\n",
       "    </tr>\n",
       "    <tr>\n",
       "      <th>3</th>\n",
       "      <td>_3</td>\n",
       "      <td>10</td>\n",
       "      <td>5</td>\n",
       "    </tr>\n",
       "    <tr>\n",
       "      <th>4</th>\n",
       "      <td>Point_2</td>\n",
       "      <td>20</td>\n",
       "      <td>25</td>\n",
       "    </tr>\n",
       "  </tbody>\n",
       "</table>\n",
       "</div>"
      ],
      "text/plain": [
       "      Name   X   Y\n",
       "0  Point_1   0  15\n",
       "1       _1   0   5\n",
       "2       _2  10  15\n",
       "3       _3  10   5\n",
       "4  Point_2  20  25"
      ]
     },
     "execution_count": 5,
     "metadata": {},
     "output_type": "execute_result"
    }
   ],
   "source": [
    "nodelist.head()"
   ]
  },
  {
   "cell_type": "code",
   "execution_count": 6,
   "metadata": {},
   "outputs": [],
   "source": [
    "# Create empty graph\n",
    "myGraph = nx.Graph()"
   ]
  },
  {
   "cell_type": "code",
   "execution_count": 7,
   "metadata": {},
   "outputs": [],
   "source": [
    "# Add edges and edge attributes\n",
    "for i, elrow in edgelist.iterrows():\n",
    "    myGraph.add_edge(elrow[0], elrow[1], distance=elrow[2])"
   ]
  },
  {
   "cell_type": "code",
   "execution_count": 8,
   "metadata": {},
   "outputs": [],
   "source": [
    "for i, nlrow in nodelist.iterrows():\n",
    "    #myPathGraph.node[nlrow[0]] = nlrow[1:].to_dict()\n",
    "    myGraph.node[nlrow['Name']].update(nlrow[1:].to_dict())"
   ]
  },
  {
   "cell_type": "code",
   "execution_count": 9,
   "metadata": {},
   "outputs": [
    {
     "data": {
      "text/plain": [
       "[('_1', 'Point_1', {'distance': 10}),\n",
       " ('_1', '_3', {'distance': 10}),\n",
       " ('Point_1', '_2', {'distance': 10}),\n",
       " ('_3', '_2', {'distance': 10}),\n",
       " ('_3', '_5', {'distance': 10}),\n",
       " ('_2', '_4', {'distance': 10}),\n",
       " ('_4', 'Point_2', {'distance': 10}),\n",
       " ('_4', '_7', {'distance': 10}),\n",
       " ('_4', '_5', {'distance': 10}),\n",
       " ('_7', '_8', {'distance': 10}),\n",
       " ('_5', '_6', {'distance': 5}),\n",
       " ('_5', '_8', {'distance': 10}),\n",
       " ('_6', 'Point_3', {'distance': 10}),\n",
       " ('_8', 'Point_3', {'distance': 5})]"
      ]
     },
     "execution_count": 9,
     "metadata": {},
     "output_type": "execute_result"
    }
   ],
   "source": [
    "list(myGraph.edges(data=True))"
   ]
  },
  {
   "cell_type": "code",
   "execution_count": 10,
   "metadata": {},
   "outputs": [
    {
     "data": {
      "text/plain": [
       "[('_1', {'X': 0, 'Y': 5}),\n",
       " ('Point_1', {'X': 0, 'Y': 15}),\n",
       " ('_3', {'X': 10, 'Y': 5}),\n",
       " ('_2', {'X': 10, 'Y': 15}),\n",
       " ('_4', {'X': 20, 'Y': 15}),\n",
       " ('Point_2', {'X': 20, 'Y': 25}),\n",
       " ('_7', {'X': 30, 'Y': 15}),\n",
       " ('_5', {'X': 20, 'Y': 5}),\n",
       " ('_6', {'X': 20, 'Y': 0}),\n",
       " ('_8', {'X': 30, 'Y': 5}),\n",
       " ('Point_3', {'X': 30, 'Y': 0})]"
      ]
     },
     "execution_count": 10,
     "metadata": {},
     "output_type": "execute_result"
    }
   ],
   "source": [
    "list(myGraph.nodes(data=True))"
   ]
  },
  {
   "cell_type": "code",
   "execution_count": 11,
   "metadata": {},
   "outputs": [],
   "source": [
    "# Define node positions data structure (dict) for plotting\n",
    "node_positions = {node[0]: (node[1]['X'], node[1]['Y']) for node in myGraph.nodes(data=True)}"
   ]
  },
  {
   "cell_type": "code",
   "execution_count": 12,
   "metadata": {},
   "outputs": [
    {
     "data": {
      "text/plain": [
       "{'_1': (0, 5),\n",
       " 'Point_1': (0, 15),\n",
       " '_3': (10, 5),\n",
       " '_2': (10, 15),\n",
       " '_4': (20, 15),\n",
       " 'Point_2': (20, 25),\n",
       " '_7': (30, 15),\n",
       " '_5': (20, 5),\n",
       " '_6': (20, 0),\n",
       " '_8': (30, 5),\n",
       " 'Point_3': (30, 0)}"
      ]
     },
     "execution_count": 12,
     "metadata": {},
     "output_type": "execute_result"
    }
   ],
   "source": [
    "node_positions"
   ]
  },
  {
   "cell_type": "code",
   "execution_count": 13,
   "metadata": {},
   "outputs": [
    {
     "data": {
      "text/plain": [
       "{'_1': (0, 5),\n",
       " 'Point_1': (0, 15),\n",
       " '_3': (10, 5),\n",
       " '_2': (10, 15),\n",
       " '_4': (20, 15),\n",
       " 'Point_2': (20, 25),\n",
       " '_7': (30, 15),\n",
       " '_5': (20, 5),\n",
       " '_6': (20, 0),\n",
       " '_8': (30, 5),\n",
       " 'Point_3': (30, 0)}"
      ]
     },
     "execution_count": 13,
     "metadata": {},
     "output_type": "execute_result"
    }
   ],
   "source": [
    "# Preview of node_positions with a bit of hack (there is no head/slice method for dictionaries).\n",
    "dict(list(node_positions.items()))"
   ]
  },
  {
   "cell_type": "code",
   "execution_count": 14,
   "metadata": {},
   "outputs": [
    {
     "name": "stderr",
     "output_type": "stream",
     "text": [
      "/home/vini/anaconda3/lib/python3.6/site-packages/networkx/drawing/nx_pylab.py:611: MatplotlibDeprecationWarning: isinstance(..., numbers.Number)\n",
      "  if cb.is_numlike(alpha):\n"
     ]
    },
    {
     "data": {
      "image/png": "[encoded data removed]",
      "text/plain": [
       "<Figure size 576x432 with 1 Axes>"
      ]
     },
     "metadata": {},
     "output_type": "display_data"
    }
   ],
   "source": [
    "plt.figure(figsize=(8, 6))\n",
    "nx.draw(myGraph, pos=node_positions,node_size=10, node_color='black',with_labels = True)\n",
    "plt.title('Graph Representation of Sleeping Giant Train Map', size=15)\n",
    "plt.show()"
   ]
  },
  {
   "cell_type": "code",
   "execution_count": 15,
   "metadata": {},
   "outputs": [],
   "source": [
    "def get_shortest_paths_distances(graph, pairs, measure):\n",
    "    \"\"\"Compute shortest distance between each pair of nodes in a graph.  Return a dictionary keyed on node pairs (tuples).\"\"\"\n",
    "    distances = {}\n",
    "    for pair in pairs:\n",
    "        distances[pair] = nx.dijkstra_path_length(graph, pair[0], pair[1],measure)\n",
    "    return distances"
   ]
  },
  {
   "cell_type": "code",
   "execution_count": 16,
   "metadata": {},
   "outputs": [],
   "source": [
    "my_nodes = list(myGraph.nodes)\n",
    "# Compute all pairs of odd nodes. in a list of tuples\n",
    "my_node_pairs = list(itertools.combinations(my_nodes, 2))"
   ]
  },
  {
   "cell_type": "code",
   "execution_count": 17,
   "metadata": {},
   "outputs": [],
   "source": [
    "# Compute shortest paths.  Return a dictionary with node pairs keys and a single value equal to shortest path distance.\n",
    "node_pairs_shortest_paths = get_shortest_paths_distances(myGraph, my_node_pairs, 'distance')"
   ]
  },
  {
   "cell_type": "code",
   "execution_count": 18,
   "metadata": {},
   "outputs": [
    {
     "data": {
      "text/plain": [
       "{('_1', 'Point_1'): 10,\n",
       " ('_1', '_3'): 10,\n",
       " ('_1', '_2'): 20,\n",
       " ('_1', '_4'): 30,\n",
       " ('_1', 'Point_2'): 40,\n",
       " ('_1', '_7'): 40,\n",
       " ('_1', '_5'): 20,\n",
       " ('_1', '_6'): 25,\n",
       " ('_1', '_8'): 30,\n",
       " ('_1', 'Point_3'): 35,\n",
       " ('Point_1', '_3'): 20,\n",
       " ('Point_1', '_2'): 10,\n",
       " ('Point_1', '_4'): 20,\n",
       " ('Point_1', 'Point_2'): 30,\n",
       " ('Point_1', '_7'): 30,\n",
       " ('Point_1', '_5'): 30,\n",
       " ('Point_1', '_6'): 35,\n",
       " ('Point_1', '_8'): 40,\n",
       " ('Point_1', 'Point_3'): 45,\n",
       " ('_3', '_2'): 10,\n",
       " ('_3', '_4'): 20,\n",
       " ('_3', 'Point_2'): 30,\n",
       " ('_3', '_7'): 30,\n",
       " ('_3', '_5'): 10,\n",
       " ('_3', '_6'): 15,\n",
       " ('_3', '_8'): 20,\n",
       " ('_3', 'Point_3'): 25,\n",
       " ('_2', '_4'): 10,\n",
       " ('_2', 'Point_2'): 20,\n",
       " ('_2', '_7'): 20,\n",
       " ('_2', '_5'): 20,\n",
       " ('_2', '_6'): 25,\n",
       " ('_2', '_8'): 30,\n",
       " ('_2', 'Point_3'): 35,\n",
       " ('_4', 'Point_2'): 10,\n",
       " ('_4', '_7'): 10,\n",
       " ('_4', '_5'): 10,\n",
       " ('_4', '_6'): 15,\n",
       " ('_4', '_8'): 20,\n",
       " ('_4', 'Point_3'): 25,\n",
       " ('Point_2', '_7'): 20,\n",
       " ('Point_2', '_5'): 20,\n",
       " ('Point_2', '_6'): 25,\n",
       " ('Point_2', '_8'): 30,\n",
       " ('Point_2', 'Point_3'): 35,\n",
       " ('_7', '_5'): 20,\n",
       " ('_7', '_6'): 25,\n",
       " ('_7', '_8'): 10,\n",
       " ('_7', 'Point_3'): 15,\n",
       " ('_5', '_6'): 5,\n",
       " ('_5', '_8'): 10,\n",
       " ('_5', 'Point_3'): 15,\n",
       " ('_6', '_8'): 15,\n",
       " ('_6', 'Point_3'): 10,\n",
       " ('_8', 'Point_3'): 5}"
      ]
     },
     "execution_count": 18,
     "metadata": {},
     "output_type": "execute_result"
    }
   ],
   "source": []
  },
  {
   "cell_type": "code",
   "execution_count": null,
   "metadata": {},
   "outputs": [],
   "source": []
  },
  {
   "cell_type": "code",
   "execution_count": null,
   "metadata": {},
   "outputs": [],
   "source": []
  },
  {
   "cell_type": "code",
   "execution_count": null,
   "metadata": {},
   "outputs": [],
   "source": []
  }
 ],
 "metadata": {
  "kernelspec": {
   "display_name": "Python 3",
   "language": "python",
   "name": "python3"
  },
  "language_info": {
   "codemirror_mode": {
    "name": "ipython",
    "version": 3
   },
   "file_extension": ".py",
   "mimetype": "text/x-python",
   "name": "python",
   "nbconvert_exporter": "python",
   "pygments_lexer": "ipython3",
   "version": "3.6.8"
  }
 },
 "nbformat": 4,
 "nbformat_minor": 2
}
